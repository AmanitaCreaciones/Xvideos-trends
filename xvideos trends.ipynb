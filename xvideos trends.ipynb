{
 "cells": [
  {
   "cell_type": "markdown",
   "metadata": {},
   "source": [
    "# Extract trends for a certain period of time for the porn website xvideos from archive.org"
   ]
  },
  {
   "cell_type": "markdown",
   "metadata": {},
   "source": [
    "Download the dataset from 2018 (and avoid running this script) here https://drive.google.com/open?id=1PJXXjtnucZVAii6qDtkwKCI3QuLHOwit"
   ]
  },
  {
   "cell_type": "markdown",
   "metadata": {},
   "source": [
    "## Load libraries"
   ]
  },
  {
   "cell_type": "code",
   "execution_count": 1,
   "metadata": {},
   "outputs": [],
   "source": [
    "from bs4 import BeautifulSoup as bs\n",
    "import requests\n",
    "import pandas as pd\n",
    "import re\n",
    "import time\n",
    "import matplotlib.pyplot as plt\n",
    "from datetime import date\n",
    "from datetime import timedelta\n",
    "#from selenium import webdriver\n",
    "%matplotlib inline"
   ]
  },
  {
   "cell_type": "markdown",
   "metadata": {},
   "source": [
    "## Configuration"
   ]
  },
  {
   "cell_type": "code",
   "execution_count": 2,
   "metadata": {},
   "outputs": [],
   "source": [
    "url = 'xvideos.com/'\n",
    "names_to_search = ['manada','san fermin']\n",
    "ini_date = date(2018, 1, 1)\n",
    "end_date = date(2018, 12, 31)\n",
    "\n",
    "ini_day = str(ini_date.day).zfill(2) \n",
    "ini_month = str(ini_date.month).zfill(2)\n",
    "ini_year = str(ini_date.year)\n",
    "end_day = str(end_date.day).zfill(2)\n",
    "end_month = str(end_date.month).zfill(2)\n",
    "end_year = str(end_date.year)"
   ]
  },
  {
   "cell_type": "markdown",
   "metadata": {},
   "source": [
    "## Load website and crawl"
   ]
  },
  {
   "cell_type": "code",
   "execution_count": null,
   "metadata": {},
   "outputs": [],
   "source": [
    "date = ini_date\n",
    "database = pd.DataFrame(columns = ['Date','Top1','Top2','Top3',\n",
    "                                   'Top4', 'Top5', 'Top6','Top7','Top8',\n",
    "                                   'Top9','Top10','Top11','Top12','Top13'\n",
    "                                   ,'Top14','Top15'])\n",
    "counter = 0\n",
    "while date < end_date + timedelta(days=1):\n",
    "    counter += 1\n",
    "    date_day = str(date.day).zfill(2) \n",
    "    date_month = str(date.month).zfill(2)\n",
    "    date_year = str(date.year)\n",
    "    date_timestamp = date_year+date_month+date_day+'000000'\n",
    "    web_adress = 'http://web.archive.org/web/'+date_timestamp+'/http://'+url\n",
    "    r = requests.get(web_adress) \n",
    "    real_timestamp = r.url.split('/')[4]\n",
    "    try:\n",
    "        page = requests.get('http://web.archive.org/web/'+real_timestamp+'/xvideos.com/')\n",
    "        page_bs = bs(page.text,'html5lib')\n",
    "        trends_tabs = page_bs.find_all(\"div\", class_= \"home-trends ordered-label-list\")\n",
    "\n",
    "        trends_tabs = trends_tabs[0].find_all(\"a\", class_= \"btn btn-default\")\n",
    "        top_trends = pd.DataFrame()\n",
    "        top_trends['Date'] =  [pd.Timestamp(str(real_timestamp)[0:4]+'/'+str(real_timestamp)[4:6]+'/'+str(real_timestamp)[6:8])]\n",
    "        #print(top_trends)\n",
    "        for i in range(1,16):\n",
    "            top_trends['Top'+str(i)] = [trends_tabs[i-1].text]\n",
    "\n",
    "        database = database.append(top_trends)\n",
    "    except:\n",
    "        print('excepción')\n",
    "    print(counter, \" \", date)   \n",
    "    date += timedelta(days=1)\n",
    "database.to_csv('xvideos_top_searches.csv')            "
   ]
  },
  {
   "cell_type": "markdown",
   "metadata": {},
   "source": [
    "## Explore data"
   ]
  },
  {
   "cell_type": "code",
   "execution_count": 7,
   "metadata": {},
   "outputs": [
    {
     "data": {
      "text/html": [
       "<div>\n",
       "<style scoped>\n",
       "    .dataframe tbody tr th:only-of-type {\n",
       "        vertical-align: middle;\n",
       "    }\n",
       "\n",
       "    .dataframe tbody tr th {\n",
       "        vertical-align: top;\n",
       "    }\n",
       "\n",
       "    .dataframe thead th {\n",
       "        text-align: right;\n",
       "    }\n",
       "</style>\n",
       "<table border=\"1\" class=\"dataframe\">\n",
       "  <thead>\n",
       "    <tr style=\"text-align: right;\">\n",
       "      <th></th>\n",
       "      <th>Date</th>\n",
       "      <th>Top1</th>\n",
       "      <th>Top2</th>\n",
       "      <th>Top3</th>\n",
       "      <th>Top4</th>\n",
       "      <th>Top5</th>\n",
       "      <th>Top6</th>\n",
       "      <th>Top7</th>\n",
       "      <th>Top8</th>\n",
       "      <th>Top9</th>\n",
       "      <th>Top10</th>\n",
       "      <th>Top11</th>\n",
       "      <th>Top12</th>\n",
       "      <th>Top13</th>\n",
       "      <th>Top14</th>\n",
       "      <th>Top15</th>\n",
       "    </tr>\n",
       "  </thead>\n",
       "  <tbody>\n",
       "    <tr>\n",
       "      <th>0</th>\n",
       "      <td>2017-12-31</td>\n",
       "      <td>Karlee grey</td>\n",
       "      <td>Cardi b</td>\n",
       "      <td>Vr</td>\n",
       "      <td>Strip club</td>\n",
       "      <td>Chevy cobain</td>\n",
       "      <td>Helena price</td>\n",
       "      <td>Aunt gives her nephew a massage</td>\n",
       "      <td>Franceska jaimes</td>\n",
       "      <td>Lifted</td>\n",
       "      <td>Real wife stories</td>\n",
       "      <td>White trash</td>\n",
       "      <td>Povd</td>\n",
       "      <td>Aunt massage</td>\n",
       "      <td>Ella hughes</td>\n",
       "      <td>Sex slave</td>\n",
       "    </tr>\n",
       "    <tr>\n",
       "      <th>0</th>\n",
       "      <td>2018-01-02</td>\n",
       "      <td>Tinder</td>\n",
       "      <td>Strip club</td>\n",
       "      <td>New years</td>\n",
       "      <td>Cardi b</td>\n",
       "      <td>Krissy lynn</td>\n",
       "      <td>New year</td>\n",
       "      <td>Kiki minaj</td>\n",
       "      <td>Strip club surprise</td>\n",
       "      <td>Athena faris</td>\n",
       "      <td>Oops</td>\n",
       "      <td>Alexis breeze</td>\n",
       "      <td>2018</td>\n",
       "      <td>Alli ava</td>\n",
       "      <td>Aunt gives her nephew a massage</td>\n",
       "      <td>White trash</td>\n",
       "    </tr>\n",
       "    <tr>\n",
       "      <th>0</th>\n",
       "      <td>2018-01-02</td>\n",
       "      <td>Tinder</td>\n",
       "      <td>New years</td>\n",
       "      <td>Stuck</td>\n",
       "      <td>Cory chase</td>\n",
       "      <td>New year</td>\n",
       "      <td>2018</td>\n",
       "      <td>Strip club</td>\n",
       "      <td>Tia sweets</td>\n",
       "      <td>Athena faris</td>\n",
       "      <td>Veronika raquel</td>\n",
       "      <td>Racist</td>\n",
       "      <td>Oops</td>\n",
       "      <td>Ebony banks</td>\n",
       "      <td>Kiki minaj</td>\n",
       "      <td>Tia cyrus</td>\n",
       "    </tr>\n",
       "    <tr>\n",
       "      <th>0</th>\n",
       "      <td>2018-01-03</td>\n",
       "      <td>Tinder</td>\n",
       "      <td>Cardi b</td>\n",
       "      <td>Tia sweets</td>\n",
       "      <td>Tia cyrus</td>\n",
       "      <td>Prostitute</td>\n",
       "      <td>New years</td>\n",
       "      <td>Harlow harrison</td>\n",
       "      <td>2018</td>\n",
       "      <td>Ebony banks</td>\n",
       "      <td>Natasha nice</td>\n",
       "      <td>Racist</td>\n",
       "      <td>Brittney white</td>\n",
       "      <td>Alexis adams</td>\n",
       "      <td>Synthia fixx</td>\n",
       "      <td>Oops</td>\n",
       "    </tr>\n",
       "    <tr>\n",
       "      <th>0</th>\n",
       "      <td>2018-01-05</td>\n",
       "      <td>Tinder</td>\n",
       "      <td>Olivia austin</td>\n",
       "      <td>Jade kush</td>\n",
       "      <td>Lana rhoades</td>\n",
       "      <td>Revenge</td>\n",
       "      <td>Tiffany sparkz</td>\n",
       "      <td>Virgo peridot</td>\n",
       "      <td>Sleepover</td>\n",
       "      <td>Military</td>\n",
       "      <td>Clara morgane</td>\n",
       "      <td>Skyler luv</td>\n",
       "      <td>Povd</td>\n",
       "      <td>2018</td>\n",
       "      <td>Nayla simone</td>\n",
       "      <td>Wenona</td>\n",
       "    </tr>\n",
       "  </tbody>\n",
       "</table>\n",
       "</div>"
      ],
      "text/plain": [
       "        Date         Top1           Top2        Top3          Top4  \\\n",
       "0 2017-12-31  Karlee grey        Cardi b          Vr    Strip club   \n",
       "0 2018-01-02       Tinder     Strip club   New years       Cardi b   \n",
       "0 2018-01-02       Tinder      New years       Stuck    Cory chase   \n",
       "0 2018-01-03       Tinder        Cardi b  Tia sweets     Tia cyrus   \n",
       "0 2018-01-05       Tinder  Olivia austin   Jade kush  Lana rhoades   \n",
       "\n",
       "           Top5            Top6                             Top7  \\\n",
       "0  Chevy cobain    Helena price  Aunt gives her nephew a massage   \n",
       "0   Krissy lynn        New year                       Kiki minaj   \n",
       "0      New year            2018                       Strip club   \n",
       "0    Prostitute       New years                  Harlow harrison   \n",
       "0       Revenge  Tiffany sparkz                    Virgo peridot   \n",
       "\n",
       "                  Top8          Top9              Top10          Top11  \\\n",
       "0     Franceska jaimes        Lifted  Real wife stories    White trash   \n",
       "0  Strip club surprise  Athena faris               Oops  Alexis breeze   \n",
       "0           Tia sweets  Athena faris    Veronika raquel         Racist   \n",
       "0                 2018   Ebony banks       Natasha nice         Racist   \n",
       "0            Sleepover      Military      Clara morgane     Skyler luv   \n",
       "\n",
       "            Top12         Top13                            Top14        Top15  \n",
       "0            Povd  Aunt massage                      Ella hughes    Sex slave  \n",
       "0            2018      Alli ava  Aunt gives her nephew a massage  White trash  \n",
       "0            Oops   Ebony banks                       Kiki minaj    Tia cyrus  \n",
       "0  Brittney white  Alexis adams                     Synthia fixx         Oops  \n",
       "0            Povd          2018                     Nayla simone       Wenona  "
      ]
     },
     "execution_count": 7,
     "metadata": {},
     "output_type": "execute_result"
    }
   ],
   "source": [
    "database.head()"
   ]
  },
  {
   "cell_type": "markdown",
   "metadata": {},
   "source": [
    "## Columns into rows"
   ]
  },
  {
   "cell_type": "code",
   "execution_count": 8,
   "metadata": {},
   "outputs": [],
   "source": [
    "database = pd.read_csv('xvideos_top_searches.csv')"
   ]
  },
  {
   "cell_type": "code",
   "execution_count": null,
   "metadata": {
    "scrolled": true
   },
   "outputs": [],
   "source": [
    "in_rows = pd.DataFrame(columns = ['date','search word','rank'])\n",
    "for index, row in database.iterrows():\n",
    "    for i in range(1,len(row)): \n",
    "        new_row = pd.DataFrame()\n",
    "        new_row['date'] = [row[0]]\n",
    "        new_row['search word'] = [row[i]]\n",
    "        new_row['rank'] = [i]\n",
    "        in_rows = in_rows.append(new_row)\n",
    "in_rows.to_csv('xvideos_top_searches_in_rows.csv') "
   ]
  },
  {
   "cell_type": "markdown",
   "metadata": {},
   "source": [
    "## Load csv"
   ]
  },
  {
   "cell_type": "code",
   "execution_count": 2,
   "metadata": {},
   "outputs": [],
   "source": [
    "in_rows = pd.read_csv('xvideos_top_searches_in_rows.csv')"
   ]
  },
  {
   "cell_type": "markdown",
   "metadata": {},
   "source": [
    "### Top 5 keywords with most apperances in the first positions"
   ]
  },
  {
   "cell_type": "code",
   "execution_count": 3,
   "metadata": {},
   "outputs": [
    {
     "data": {
      "text/html": [
       "<div>\n",
       "<style scoped>\n",
       "    .dataframe tbody tr th:only-of-type {\n",
       "        vertical-align: middle;\n",
       "    }\n",
       "\n",
       "    .dataframe tbody tr th {\n",
       "        vertical-align: top;\n",
       "    }\n",
       "\n",
       "    .dataframe thead th {\n",
       "        text-align: right;\n",
       "    }\n",
       "</style>\n",
       "<table border=\"1\" class=\"dataframe\">\n",
       "  <thead>\n",
       "    <tr style=\"text-align: right;\">\n",
       "      <th></th>\n",
       "      <th>search word</th>\n",
       "      <th>rank</th>\n",
       "    </tr>\n",
       "  </thead>\n",
       "  <tbody>\n",
       "    <tr>\n",
       "      <th>0</th>\n",
       "      <td>Tinder</td>\n",
       "      <td>17</td>\n",
       "    </tr>\n",
       "    <tr>\n",
       "      <th>1</th>\n",
       "      <td>Stormy daniels</td>\n",
       "      <td>15</td>\n",
       "    </tr>\n",
       "    <tr>\n",
       "      <th>2</th>\n",
       "      <td>Halloween</td>\n",
       "      <td>10</td>\n",
       "    </tr>\n",
       "    <tr>\n",
       "      <th>3</th>\n",
       "      <td>Midget</td>\n",
       "      <td>9</td>\n",
       "    </tr>\n",
       "    <tr>\n",
       "      <th>4</th>\n",
       "      <td>Christmas</td>\n",
       "      <td>9</td>\n",
       "    </tr>\n",
       "  </tbody>\n",
       "</table>\n",
       "</div>"
      ],
      "text/plain": [
       "      search word  rank\n",
       "0          Tinder    17\n",
       "1  Stormy daniels    15\n",
       "2       Halloween    10\n",
       "3          Midget     9\n",
       "4       Christmas     9"
      ]
     },
     "execution_count": 3,
     "metadata": {},
     "output_type": "execute_result"
    }
   ],
   "source": [
    "in_rows.loc[in_rows['rank']==1].groupby('search word').agg({'rank':'count'}).sort_values(['rank'],ascending=False).reset_index().head(5)"
   ]
  },
  {
   "cell_type": "code",
   "execution_count": 6,
   "metadata": {},
   "outputs": [
    {
     "data": {
      "text/html": [
       "<div>\n",
       "<style scoped>\n",
       "    .dataframe tbody tr th:only-of-type {\n",
       "        vertical-align: middle;\n",
       "    }\n",
       "\n",
       "    .dataframe tbody tr th {\n",
       "        vertical-align: top;\n",
       "    }\n",
       "\n",
       "    .dataframe thead th {\n",
       "        text-align: right;\n",
       "    }\n",
       "</style>\n",
       "<table border=\"1\" class=\"dataframe\">\n",
       "  <thead>\n",
       "    <tr style=\"text-align: right;\">\n",
       "      <th></th>\n",
       "      <th>search word</th>\n",
       "      <th>rank</th>\n",
       "    </tr>\n",
       "  </thead>\n",
       "  <tbody>\n",
       "    <tr>\n",
       "      <th>0</th>\n",
       "      <td>Stormy daniels</td>\n",
       "      <td>39</td>\n",
       "    </tr>\n",
       "    <tr>\n",
       "      <th>1</th>\n",
       "      <td>Christmas</td>\n",
       "      <td>38</td>\n",
       "    </tr>\n",
       "    <tr>\n",
       "      <th>2</th>\n",
       "      <td>Halloween</td>\n",
       "      <td>35</td>\n",
       "    </tr>\n",
       "    <tr>\n",
       "      <th>3</th>\n",
       "      <td>Jade kush</td>\n",
       "      <td>32</td>\n",
       "    </tr>\n",
       "    <tr>\n",
       "      <th>4</th>\n",
       "      <td>Sex doll</td>\n",
       "      <td>31</td>\n",
       "    </tr>\n",
       "    <tr>\n",
       "      <th>5</th>\n",
       "      <td>Lil d</td>\n",
       "      <td>31</td>\n",
       "    </tr>\n",
       "    <tr>\n",
       "      <th>6</th>\n",
       "      <td>Pure taboo</td>\n",
       "      <td>29</td>\n",
       "    </tr>\n",
       "    <tr>\n",
       "      <th>7</th>\n",
       "      <td>Mom helps son</td>\n",
       "      <td>24</td>\n",
       "    </tr>\n",
       "    <tr>\n",
       "      <th>8</th>\n",
       "      <td>Mother in law</td>\n",
       "      <td>24</td>\n",
       "    </tr>\n",
       "    <tr>\n",
       "      <th>9</th>\n",
       "      <td>Forbidden taboo</td>\n",
       "      <td>24</td>\n",
       "    </tr>\n",
       "  </tbody>\n",
       "</table>\n",
       "</div>"
      ],
      "text/plain": [
       "       search word  rank\n",
       "0   Stormy daniels    39\n",
       "1        Christmas    38\n",
       "2        Halloween    35\n",
       "3        Jade kush    32\n",
       "4         Sex doll    31\n",
       "5            Lil d    31\n",
       "6       Pure taboo    29\n",
       "7    Mom helps son    24\n",
       "8    Mother in law    24\n",
       "9  Forbidden taboo    24"
      ]
     },
     "execution_count": 6,
     "metadata": {},
     "output_type": "execute_result"
    }
   ],
   "source": [
    "in_rows.groupby('search word').agg({'rank':'count'}).sort_values(['rank'],ascending=False).reset_index().head(10)"
   ]
  }
 ],
 "metadata": {
  "kernelspec": {
   "display_name": "Python 3",
   "language": "python",
   "name": "python3"
  },
  "language_info": {
   "codemirror_mode": {
    "name": "ipython",
    "version": 3
   },
   "file_extension": ".py",
   "mimetype": "text/x-python",
   "name": "python",
   "nbconvert_exporter": "python",
   "pygments_lexer": "ipython3",
   "version": "3.6.7"
  }
 },
 "nbformat": 4,
 "nbformat_minor": 2
}
